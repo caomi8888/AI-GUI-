{
 "cells": [
  {
   "cell_type": "code",
   "execution_count": 5,
   "metadata": {},
   "outputs": [
    {
     "name": "stdout",
     "output_type": "stream",
     "text": [
      "it and no welcome to germinate\n"
     ]
    }
   ],
   "source": [
    "import speech_recognition as sr\n",
    "recognizer=sr.Recognizer()\n",
    "with sr.Microphone() as source:\n",
    "    audio=recognizer.listen(source)\n",
    "    print(recognizer.recognize_sphinx(audio))"
   ]
  },
  {
   "cell_type": "code",
   "execution_count": 3,
   "metadata": {},
   "outputs": [
    {
     "data": {
      "text/plain": [
       "array([[ 4.61374344e-01, -7.57325304e-01, -6.85858497e-01,\n",
       "        -6.27649395e-01, -3.62477539e-01],\n",
       "       [ 1.11661885e+00, -1.05116637e+00, -1.95166825e+00,\n",
       "        -1.30496294e-01, -7.08046075e-02],\n",
       "       [ 1.48352166e+00,  1.53481334e+00, -1.74833943e+00,\n",
       "        -1.49042634e+00, -3.82340939e-01],\n",
       "       [-1.46834217e+00,  2.37740722e+00,  7.91914556e-01,\n",
       "         3.03933744e-04,  1.40828364e-01],\n",
       "       [-1.60897776e+00,  4.99486945e-01, -4.14041787e-01,\n",
       "         4.49708899e-01,  1.61845267e+00]])"
      ]
     },
     "execution_count": 3,
     "metadata": {},
     "output_type": "execute_result"
    }
   ],
   "source": [
    "import numpy as np\n",
    "a=np.random.randn(5,5)\n",
    "a"
   ]
  },
  {
   "cell_type": "code",
   "execution_count": 5,
   "metadata": {},
   "outputs": [
    {
     "name": "stdout",
     "output_type": "stream",
     "text": [
      "[ 0.46137434 -0.7573253  -0.6858585  -0.6276494  -0.36247754]\n",
      "[ 1.11661885 -1.05116637 -1.95166825 -0.13049629 -0.07080461]\n",
      "[ 1.48352166  1.53481334 -1.74833943 -1.49042634 -0.38234094]\n",
      "[-1.46834217e+00  2.37740722e+00  7.91914556e-01  3.03933744e-04\n",
      "  1.40828364e-01]\n",
      "[-1.60897776  0.49948694 -0.41404179  0.4497089   1.61845267]\n"
     ]
    }
   ],
   "source": [
    "for i in a:\n",
    "    print(i)"
   ]
  },
  {
   "cell_type": "code",
   "execution_count": null,
   "metadata": {},
   "outputs": [],
   "source": []
  },
  {
   "cell_type": "code",
   "execution_count": null,
   "metadata": {},
   "outputs": [],
   "source": []
  },
  {
   "cell_type": "code",
   "execution_count": null,
   "metadata": {},
   "outputs": [],
   "source": []
  }
 ],
 "metadata": {
  "kernelspec": {
   "display_name": "Python 3",
   "language": "python",
   "name": "python3"
  },
  "language_info": {
   "codemirror_mode": {
    "name": "ipython",
    "version": 3
   },
   "file_extension": ".py",
   "mimetype": "text/x-python",
   "name": "python",
   "nbconvert_exporter": "python",
   "pygments_lexer": "ipython3",
   "version": "3.8.5"
  }
 },
 "nbformat": 4,
 "nbformat_minor": 4
}
